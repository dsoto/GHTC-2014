{
 "metadata": {
  "name": "",
  "signature": "sha256:bbf227780bbe9933571814d0279aa1d4a9a624ae3577790a4ca6fd1f8520b3ed"
 },
 "nbformat": 3,
 "nbformat_minor": 0,
 "worksheets": [
  {
   "cells": [
    {
     "cell_type": "markdown",
     "metadata": {},
     "source": [
      "# Business in a Box return\n",
      "\n",
      "Robust solutions for small-scale energy entrepreneurs are available for purchase.  These are moderately priced ($150) devices that have a solar panel, battery storage, multiple DC output ports, and charging intelligence to manage the battery.\n",
      "\n",
      "An entrepreneur can buy this system, harvest solar energy, and sell electrical energy through phone charging to area villagers.\n",
      "\n",
      "Assume\n",
      "\n",
      "- Cost of device \\$150\n",
      "- cost of charge 0.20 USD\n",
      "- frequency of charge 100 / month\n",
      "- monthly revenue if charging 3 phones per day, \\$20 per month\n",
      "- monthly revenue if selling electricity at retail, 30 days * 0.050 kWh/day * 0.20 USD/kWh = $3\n",
      "\n",
      "We can look at the return as a function of the time the asset is held and compare to available finance rates."
     ]
    },
    {
     "cell_type": "code",
     "collapsed": false,
     "input": [
      "%pylab inline\n",
      "import numpy as np\n",
      "\n",
      "def cash_flow(initial_cost, period_avoided_cost, periods_financing):\n",
      "    # returns an array of cash flows\n",
      "    # first cash flow is the negative initial payment\n",
      "    # appends a cash flow for each year of financing equal to the period avoided cost\n",
      "    return np.hstack(([-initial_cost], [period_avoided_cost] * periods_financing))\n",
      "    \n",
      "# should i return an IRR here instead?\n",
      "def get_irr(initial_cost, period_avoided_cost, periods_financing):\n",
      "    return np.irr(cash_flow(initial_cost, period_avoided_cost, periods_financing))"
     ],
     "language": "python",
     "metadata": {},
     "outputs": [
      {
       "output_type": "stream",
       "stream": "stdout",
       "text": [
        "Populating the interactive namespace from numpy and matplotlib\n"
       ]
      }
     ],
     "prompt_number": 1
    },
    {
     "cell_type": "markdown",
     "metadata": {},
     "source": [
      "## Internal rate of return\n",
      "\n",
      "Here I plot the rate of return for this phone charging device as a function of the time period.  "
     ]
    },
    {
     "cell_type": "code",
     "collapsed": false,
     "input": [
      "cost_per_phone_charge_USD = 0.20\n",
      "phone_charge_per_month = 100.\n",
      "device_costs_USD = 150\n",
      "monthly_avoided_cost = cost_per_phone_charge_USD * phone_charge_per_month\n",
      "\n",
      "\n",
      "returns = []\n",
      "for months_financing in range(1, 48):\n",
      "    rate = get_irr(device_costs_USD, \n",
      "                   monthly_avoided_cost, \n",
      "                   months_financing)* 12\n",
      "    returns.append(rate)\n",
      "\n",
      "plot(returns, 'b')\n",
      "title('Phone Charging Customer IRR')\n",
      "xlabel('Length of time (months)')\n",
      "ylabel('Rate of return (%/year)')\n",
      "savefig('charging-returns.pdf')"
     ],
     "language": "python",
     "metadata": {},
     "outputs": [
      {
       "metadata": {},
       "output_type": "display_data",
       "png": "[encoded data removed]",
       "text": [
        "<matplotlib.figure.Figure at 0x10241f050>"
       ]
      }
     ],
     "prompt_number": 2
    },
    {
     "cell_type": "markdown",
     "metadata": {},
     "source": [
      "# Observations\n",
      "\n",
      "Assuming there is enough demand for charging, this device can have a very attractive return.  The entrepreneur does incur a business risk since a competing phone charging solution in the same geographic area could sharply reduce demand."
     ]
    }
   ],
   "metadata": {}
  }
 ]
}