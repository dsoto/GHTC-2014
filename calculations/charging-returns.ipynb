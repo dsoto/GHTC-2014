{
 "metadata": {
  "name": ""
 },
 "nbformat": 3,
 "nbformat_minor": 0,
 "worksheets": [
  {
   "cells": [
    {
     "cell_type": "markdown",
     "metadata": {},
     "source": [
      "# Internal rate of return for a phone charger\n",
      "\n",
      "Consider a device that charges a cell-phone during the day with a solar panel and a small charge controller.  The cost of this device will be mostly the panel cost since the battery is on the phone.  This device assumes that customers are willing to travel during the day and leave their phones to be charged during the day.\n",
      "\n",
      "Assume\n",
      "\n",
      "- Phone battery capacity of 5 Wh\n",
      "- 5 Watt panel\n",
      "- cost of charge 0.20 USD\n",
      "- frequency of charge 10 / month\n",
      "\n",
      "The lifetime of the panel could be 10 - 20 years, the charge controller is likely less than that.  \n",
      "\n",
      "We can look at the return as a function of the time the asset is held and compare to available finance rates.\n",
      "\n",
      "## Capital cost\n",
      "\n",
      "Assume that the charger panel, assembly, and electronics is available at \\$2.0 per watt.  For a 5 watt, panel this is \\$10.  \n",
      "\n",
      "## Revenue\n",
      "\n",
      "A five watt panel in a 5 peak sun hour location can generate 25 Wh each day.  This is about 5 phones worth of electricity if delivered with 100% charging efficiency.  The largest uncertainty in the revenue is how many phones can be recharged and paid for.  The capacity of the device is 4-5 per day or 120-150 per month for a maximum revenue of \\$24--\\$30 per month.  This is likely entirely too optimistic, since the surrounding area may not have that many customers or charging demand.  If we instead assume a charge per day, we have revenues of closer to \\$6--\\$12 per month.\n",
      "\n",
      "## Payback\n",
      "\n",
      "Even at conservative estimates, the payback for this device can be within a month or so."
     ]
    },
    {
     "cell_type": "code",
     "collapsed": false,
     "input": [
      "%pylab inline\n",
      "import numpy as np\n",
      "\n",
      "def cash_flow(initial_cost, period_avoided_cost, periods_financing):\n",
      "    # returns an array of cash flows\n",
      "    # first cash flow is the negative initial payment\n",
      "    # appends a cash flow for each year of financing equal to the period avoided cost\n",
      "    return np.hstack(([-initial_cost], [period_avoided_cost] * periods_financing))\n",
      "    \n",
      "# should i return an IRR here instead?\n",
      "def get_irr(initial_cost, period_avoided_cost, periods_financing):\n",
      "    return np.irr(cash_flow(initial_cost, period_avoided_cost, periods_financing))"
     ],
     "language": "python",
     "metadata": {},
     "outputs": [
      {
       "output_type": "stream",
       "stream": "stdout",
       "text": [
        "Populating the interactive namespace from numpy and matplotlib\n"
       ]
      }
     ],
     "prompt_number": 3
    },
    {
     "cell_type": "markdown",
     "metadata": {},
     "source": [
      "## Phone charging internal rate of return\n",
      "\n",
      "Here I plot the rate of return for this phone charging device as a function of the time period.  "
     ]
    },
    {
     "cell_type": "code",
     "collapsed": false,
     "input": [
      "cost_per_phone_charge_USD = 0.20\n",
      "phone_charge_per_month = 10.\n",
      "device_costs_USD = 10\n",
      "monthly_avoided_cost = cost_per_phone_charge_USD * phone_charge_per_month\n",
      "\n",
      "\n",
      "returns = []\n",
      "for months_financing in range(1, 48):\n",
      "    rate = get_irr(device_costs_USD, \n",
      "                   monthly_avoided_cost, \n",
      "                   months_financing)* 12\n",
      "    returns.append(rate)\n",
      "\n",
      "plot(returns, 'b')\n",
      "title('Phone Charging Customer IRR')\n",
      "xlabel('Length of time (months)')\n",
      "ylabel('Rate of return (%/year)')\n",
      "savefig('charging-returns.pdf')"
     ],
     "language": "python",
     "metadata": {},
     "outputs": [
      {
       "metadata": {},
       "output_type": "pyout",
       "prompt_number": 4,
       "text": [
        "<matplotlib.text.Text at 0x1068d8b90>"
       ]
      },
      {
       "metadata": {},
       "output_type": "display_data",
       "png": "[encoded data removed]",
       "text": [
        "<matplotlib.figure.Figure at 0x10241a510>"
       ]
      }
     ],
     "prompt_number": 4
    },
    {
     "cell_type": "markdown",
     "metadata": {},
     "source": [
      "# Retail electricity rate of return\n",
      "\n",
      "If instead of competing with retail phone charging rates, the entrepreneur decides to compete with grid electricity by selling electricity on a per kWh basis, the return of the device decreases drastically.\n",
      "\n",
      "Assume:\n",
      "\n",
      "- All electricity collected by solar panel can be sold\n",
      "- Retail cost of electricity similar to grid (0.20 USD/kWh)\n",
      "\n",
      "ReadySet\n",
      "\n",
      "- Battery 12V, 9Ah, VRLA, 54 Wh useable energy\n",
      "- Solar panel 5-75 W\n",
      "\n",
      "## Capital cost\n",
      "The retail price for a ReadySet is about 100 USD.\n",
      "\n",
      "## Revenue\n",
      "If electricity is only sold at night, there is about 50 Wh available each day or 1.5 kWh per month, because of the battery capacity.\n",
      "\n",
      "If instead electricity is also sold during the day, the electricity is constrained by the solar panel.  In a sunny location with 5 peak sun hours per day, we could harvest 250 Wh per day from a 50 W panel or about 7.5 kWh per month.\n",
      "\n",
      "## Payback\n",
      "At retail rates of 0.20 USD/kWh, the monthly revenue is 0.30--1.5 USD/month with paybacks of 60-300 months.  This assumes every kWh generated is sold.\n",
      "\n",
      "At phone charging rates, if we can sell every kWh, the battery may charge 10 phones per day at 0.20 USD and 2 USD per day or 60 USD per month, with 1--2 month payback periods.  Again, this may be an optimistic assumption.\n",
      "\n",
      "This wide difference underscores the difference between revenue based on an avoided cost in a distorted market and having to compete with the grid."
     ]
    },
    {
     "cell_type": "code",
     "collapsed": false,
     "input": [
      "cost_per_kWh_USD = 0.20\n",
      "phone_charge_per_month = 30. * 0.1\n",
      "device_costs_USD = 20\n",
      "monthly_avoided_cost = cost_per_kWh_USD * phone_charge_per_month\n",
      "\n",
      "\n",
      "returns = []\n",
      "for months_financing in range(1, 100):\n",
      "    rate = get_irr(device_costs_USD, \n",
      "                   monthly_avoided_cost, \n",
      "                   months_financing)* 12\n",
      "    returns.append(rate)\n",
      "\n",
      "plot(returns, 'b')\n",
      "title('Retail Electricity IRR')\n",
      "xlabel('Length of time (months)')\n",
      "ylabel('Rate of return (%/year)')"
     ],
     "language": "python",
     "metadata": {},
     "outputs": [
      {
       "metadata": {},
       "output_type": "pyout",
       "prompt_number": 9,
       "text": [
        "<matplotlib.text.Text at 0x106c21210>"
       ]
      },
      {
       "metadata": {},
       "output_type": "display_data",
       "png": "[encoded data removed]",
       "text": [
        "<matplotlib.figure.Figure at 0x106a25b90>"
       ]
      }
     ],
     "prompt_number": 9
    },
    {
     "cell_type": "markdown",
     "metadata": {},
     "source": [
      "# Observations\n",
      "\n",
      "The IRR are well over what microfinance will use at very short time periods.  The avoided cost is favorable and the storage is already purchased in the cellphone eliminating that cost.\n",
      "\n",
      "However, since such a device is inexpensive, financing may not be necessary to begin with.\n"
     ]
    }
   ],
   "metadata": {}
  }
 ]
}