{
 "metadata": {
  "name": "",
  "signature": "sha256:2066713662fec023fcc349bf1555826101884de1f82648a61e9c74cd260f602d"
 },
 "nbformat": 3,
 "nbformat_minor": 0,
 "worksheets": [
  {
   "cells": [
    {
     "cell_type": "markdown",
     "metadata": {},
     "source": [
      "# Business in a Box return\n",
      "\n",
      "Robust solutions for small-scale energy entrepreneurs are available for purchase.  These are moderately priced ($150) devices that have a solar panel, battery storage, multiple DC output ports, and charging intelligence to manage the battery.\n",
      "\n",
      "An entrepreneur can buy this system, harvest solar energy, and sell electrical energy through phone charging to area villagers.\n",
      "\n",
      "Assume\n",
      "\n",
      "- Cost of device \\$150\n",
      "- cost of charge 0.20 USD\n",
      "- frequency of charge 100 / month\n",
      "- monthly revenue if charging 3 phones per day, \\$20 per month\n",
      "- monthly revenue if selling electricity at retail, 30 days * 0.050 kWh/day * 0.20 USD/kWh = $3\n",
      "\n",
      "We can look at the return as a function of the time the asset is held and compare to available finance rates."
     ]
    },
    {
     "cell_type": "markdown",
     "metadata": {},
     "source": [
      "## Internal rate of return\n",
      "\n",
      "Here I plot the rate of return for this phone charging device as a function of the time period.  "
     ]
    },
    {
     "cell_type": "markdown",
     "metadata": {},
     "source": [
      "# Observations\n",
      "\n",
      "Assuming there is enough demand for charging, this device can have a very attractive return.  The entrepreneur does incur a business risk since a competing phone charging solution in the same geographic area could sharply reduce demand."
     ]
    }
   ],
   "metadata": {}
  }
 ]
}