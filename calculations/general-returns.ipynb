{
 "metadata": {
  "name": ""
 },
 "nbformat": 3,
 "nbformat_minor": 0,
 "worksheets": [
  {
   "cells": [
    {
     "cell_type": "markdown",
     "metadata": {},
     "source": [
      "# Internal rate of return\n",
      "\n",
      "This notebook calculates the IRR for a hypothetical energy device investments by either customers or entrepreneurs.\n",
      "\n",
      "I will plot of family of curves with different ratios of initial cost to monthly revenue.  This revenue can either be real revenue or an avoided cost.\n",
      "\n",
      "We compare these IRR curves to the available microfinance rates available.\n",
      "\n",
      "This ratio is simply the payback time but it helps us think about and compare various options.  In general, if you are replacing kerosene short payback times are possible, if you are selling photovoltaic electricity at grid rates, the payback times are very long.\n",
      "\n",
      "## Ratios\n",
      "- type, initial cost, monthly displacement, months until payback\n",
      "- solar lantern, \\$20, \\$1.8, 11\n",
      "- phone charging, \\$10, \\$2.0, 5\n",
      "- battery in a box, retail electricity, 150 USD/month, 1.5--7.5 kWh/month, \\$2, 50\n",
      "- battery in a box, phone charging 150 USD/month, 20 USD/month, 7.5 months\n",
      "- 1 kWh per day per customer microgrid without transmission"
     ]
    },
    {
     "cell_type": "code",
     "collapsed": false,
     "input": [
      "%matplotlib inline\n",
      "import numpy as np\n",
      "import matplotlib.pyplot as plt\n",
      "\n",
      "def cash_flow(initial_cost, period_avoided_cost, periods_financing):\n",
      "    # returns an array of cash flows\n",
      "    # first cash flow is the negative initial payment\n",
      "    # appends a cash flow for each year of financing equal to the period avoided cost\n",
      "    return np.hstack(([-initial_cost], [period_avoided_cost] * periods_financing))\n",
      "    \n",
      "def get_irr(initial_cost, period_avoided_cost, periods_financing):\n",
      "    return np.irr(cash_flow(initial_cost, period_avoided_cost, periods_financing))"
     ],
     "language": "python",
     "metadata": {},
     "outputs": [],
     "prompt_number": 1
    },
    {
     "cell_type": "markdown",
     "metadata": {},
     "source": [
      "## Internal rate of return"
     ]
    },
    {
     "cell_type": "code",
     "collapsed": false,
     "input": [
      "capital_revenue_ratio = [10.0, 18.0, 36.0]\n",
      "labels = ['small lantern', 'battery in a box', 'retail electricity']\n",
      "\n",
      "fig, ax = plt.subplots(figsize=(6, 4))\n",
      "\n",
      "# construct curves for different ratios of capital to return and plot\n",
      "# construct traces for different scenarios that plot IRR vs the length of term\n",
      "for ratio, label in zip(capital_revenue_ratio, labels):\n",
      "    capital = 1.0\n",
      "    monthly_revenue = capital / ratio\n",
      "    returns = []\n",
      "    for months_financing in range(1, 60):\n",
      "        rate = get_irr(capital, \n",
      "                       monthly_revenue, \n",
      "                       months_financing)* 12\n",
      "        returns.append(rate)\n",
      "    #plot(returns, label='{}'.format(int(ratio)))\n",
      "    ax.plot(returns, label=label)\n",
      "    # annotations\n",
      "    #text(len(returns), returns[-1], \n",
      "    #     '$' + str(initial_lantern_cost_USD), color='b')\n",
      "    \n",
      "# plot finance rate\n",
      "#import matplotlib.patches as mpatches\n",
      "#mpatches.Rectangle((10,0.36), 2, 0.05)\n",
      "\n",
      "#gca().add_patch(Rectangle((0, 0.36), 10, 0.05, color='g', alpha=0.2))\n",
      "#text(1, 0.60, \"Available\\nMicrofinance\", color='g')\n",
      "ax.axhline(0.35, ls=':', color='k')\n",
      "ax.axvline(10, ls=':', color='k')\n",
      "#axvspan(10, 48, color='r', alpha=0.2)\n",
      "#text(25, 0.5, 'Scarce\\nMicrofinance', color='r')\n",
      "# annotations\n",
      "#legend(title='Payback Period (Months)')\n",
      "#ax.legend(loc='best', title='Months Payback', bbox_to_anchor=( 1.0, 1.0))\n",
      "#ax.legend(loc='upper left', title='Months Payback')\n",
      "ax.legend(loc='upper left')\n",
      "#title('Solar Lantern Returns')\n",
      "ax.set_xlabel('Life of term (months)')\n",
      "ax.set_ylabel('Equivalent rate of return')\n",
      "ax.set_xlim((0,55))\n",
      "ax.set_ylim((0, 1.5))\n",
      "\n",
      "fig.savefig('general-returns.pdf')\n",
      "plt.show()"
     ],
     "language": "python",
     "metadata": {},
     "outputs": [
      {
       "metadata": {},
       "output_type": "display_data",
       "png": "[encoded data removed]",
       "text": [
        "<matplotlib.figure.Figure at 0x1068a5090>"
       ]
      }
     ],
     "prompt_number": 3
    },
    {
     "cell_type": "markdown",
     "metadata": {},
     "source": [
      "# Observations\n",
      "\n",
      "For many possible investments, the available microfinance interest rates are above the returns of the investment.  This requires an increase in monthly expenditures for customers which may be either impossible or undesirable.\n",
      "\n",
      "Most microfinance loans are short, less than 10 months and at interest rates above 35%.  This means that microfinance results in positive cash flow only for investments in the upper left region of the graph. \n",
      "\n",
      "If finance is available at the same terms but below the IRR, there is a positive cash flow for our investor.  \n",
      "\n",
      "If finance is available at the same terms but above the IRR, the customer will have to raise her monthly expenditures above her current expenditures to pay for the investment.\n",
      "\n",
      "If finance is available for shorter terms than desired, the loan payments will be greater than the avoided costs. \n",
      "\n",
      "<!--\n",
      "The microfinance loan terms allow for the purchase of the \\$20 lamp at near breakeven.  If the loan length were extended to 20 months, the consumer would see a net positive cash flow each month.\n",
      "\n",
      "There is only a small region where one of the lamps intersects with the available financing region.\n",
      "\n",
      "Without a financing option available, lanterns must be financed out of pocket.  Despite attractive paybacks, this will not be feasible for many consumers.  \n",
      "\n",
      "For the range of terms where solar lanterns are attractive investments, there are no loans available.\n",
      "-->"
     ]
    }
   ],
   "metadata": {}
  }
 ]
}